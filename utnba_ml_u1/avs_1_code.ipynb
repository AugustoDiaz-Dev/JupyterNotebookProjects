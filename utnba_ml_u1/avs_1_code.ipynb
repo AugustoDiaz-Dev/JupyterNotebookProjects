{
 "cells": [
  {
   "cell_type": "code",
   "execution_count": null,
   "id": "9fa8780c",
   "metadata": {},
   "outputs": [],
   "source": [
    "import pandas as pd \n",
    "import matplotlib.pyplot as plt\n",
    "import numpy as np"
   ]
  },
  {
   "cell_type": "code",
   "execution_count": null,
   "id": "0a8157c5",
   "metadata": {},
   "outputs": [],
   "source": []
  },
  {
   "cell_type": "code",
   "execution_count": null,
   "id": "dc104a79",
   "metadata": {},
   "outputs": [],
   "source": [
    "messi_csv = pd.read_dsv('messi_barca.csv', delimiter = ',', encoding = 'ISO-8859-1')"
   ]
  },
  {
   "cell_type": "code",
   "execution_count": null,
   "id": "2ce07dd6",
   "metadata": {},
   "outputs": [],
   "source": []
  },
  {
   "cell_type": "code",
   "execution_count": null,
   "id": "d4e73c5f",
   "metadata": {},
   "outputs": [],
   "source": [
    "type[messi_csv]"
   ]
  },
  {
   "cell_type": "code",
   "execution_count": null,
   "id": "677f224a",
   "metadata": {},
   "outputs": [],
   "source": [
    "messi_csv.info()"
   ]
  },
  {
   "cell_type": "code",
   "execution_count": null,
   "id": "cdc55dd5",
   "metadata": {},
   "outputs": [],
   "source": [
    "messi_csv.keys()"
   ]
  },
  {
   "cell_type": "code",
   "execution_count": null,
   "id": "5624790a",
   "metadata": {},
   "outputs": [],
   "source": [
    "x = messi_csv['Minutes played'].to_numpy()\n",
    "y = messi_csv['Goals scored'].to_numpy()"
   ]
  },
  {
   "cell_type": "code",
   "execution_count": null,
   "id": "543ffe39",
   "metadata": {},
   "outputs": [],
   "source": [
    "plt.figure(figsize=(8,8))\n",
    "plt.scatter(x,y)\n",
    "plt.xlabel('Minutes played')\n",
    "plt.ylabel('Goals scored')\n",
    "plt.show()"
   ]
  },
  {
   "cell_type": "code",
   "execution_count": null,
   "id": "5806dda6",
   "metadata": {},
   "outputs": [],
   "source": [
    "competitions = messi_csv['Competition']\n",
    "competitions"
   ]
  },
  {
   "cell_type": "code",
   "execution_count": null,
   "id": "46e22818",
   "metadata": {},
   "outputs": [],
   "source": [
    "# Labels vector \n",
    "comp = []\n",
    "for c in competitions: \n",
    "    if c == 'Champions League':\n",
    "        comp.append(0)\n",
    "    if c == 'Supercopa de España':\n",
    "        comp.append(1)\n",
    "    if c == 'Copa del Rey':\n",
    "        comp.append(2)\n",
    "    if c == 'La Liga':\n",
    "        comp.append(3)\n",
    "\n",
    "labels = np.array(comp)"
   ]
  },
  {
   "cell_type": "code",
   "execution_count": null,
   "id": "56d8fa28",
   "metadata": {},
   "outputs": [],
   "source": [
    "labels"
   ]
  },
  {
   "cell_type": "code",
   "execution_count": null,
   "id": "9ae34bf3",
   "metadata": {},
   "outputs": [],
   "source": [
    "# Another way to do the same without using for loop\n",
    "labels_test = mess_csv['Competition'].astype['Category'].cat.codes.to_numpy()\n",
    "labels_test"
   ]
  },
  {
   "cell_type": "code",
   "execution_count": null,
   "id": "02928c28",
   "metadata": {},
   "outputs": [],
   "source": [
    "plt.figure(figsize=(8,8))\n",
    "plt.scatter(x,y, c=labels, cmap='cool')\n",
    "plt.xlabel('Minutes played')\n",
    "plt.ylabel('Goals scored')\n",
    "plt.show()"
   ]
  },
  {
   "cell_type": "code",
   "execution_count": null,
   "id": "c1eb7a5b",
   "metadata": {},
   "outputs": [],
   "source": [
    "cdict = {0: 'red', 1: 'yellow', 2: 'blue', 3: 'green'}\n",
    "catdict = {0: 'Champions League', 1: 'Supercopa de España', 2: 'Copa del Rey', 3: 'La Liga'}\n",
    "\n",
    "figure, ax = plt.subplots()\n",
    "\n",
    "for g in np.unique(labels): \n",
    "    ix = np.where(g == labels)\n",
    "    ax.scatter(x[ix], y[ix], c=cdict[g], label=catdict[g], s=25, edgecolor='k')\n",
    "\n",
    "ax.legend()\n",
    "plt.show()"
   ]
  }
 ],
 "metadata": {
  "kernelspec": {
   "display_name": "Python 3 (ipykernel)",
   "language": "python",
   "name": "python3"
  },
  "language_info": {
   "codemirror_mode": {
    "name": "ipython",
    "version": 3
   },
   "file_extension": ".py",
   "mimetype": "text/x-python",
   "name": "python",
   "nbconvert_exporter": "python",
   "pygments_lexer": "ipython3",
   "version": "3.11.4"
  }
 },
 "nbformat": 4,
 "nbformat_minor": 5
}
