{
 "cells": [
  {
   "cell_type": "markdown",
   "id": "f3c91abe",
   "metadata": {},
   "source": [
    "## Miscellaneous "
   ]
  },
  {
   "cell_type": "markdown",
   "id": "b85608c4",
   "metadata": {},
   "source": [
    "### Load data from a file"
   ]
  },
  {
   "cell_type": "code",
   "execution_count": 3,
   "id": "a9d72552",
   "metadata": {},
   "outputs": [],
   "source": [
    "import numpy as np"
   ]
  },
  {
   "cell_type": "code",
   "execution_count": 8,
   "id": "06752aba",
   "metadata": {},
   "outputs": [
    {
     "name": "stdout",
     "output_type": "stream",
     "text": [
      "[[  1.  13.  21.  11. 196.  75.   4.   3.  34.   6.   7.   8.   0.   1.\n",
      "    2.   3.   4.   5.]\n",
      " [  3.  42.  12.  33. 766.  75.   4.  55.   6.   4.   3.   4.   5.   6.\n",
      "    7.   0.  11.  12.]\n",
      " [  1.  22.  33.  11. 999.  11.   2.   1.  78.   0.   1.   2.   9.   8.\n",
      "    7.   1.  76.  88.]]\n"
     ]
    }
   ],
   "source": [
    "filedata = np.genfromtxt('data.txt', delimiter=',')\n",
    "filedata.astype('int32')\n",
    "print(filedata)"
   ]
  },
  {
   "cell_type": "markdown",
   "id": "f6a52e27",
   "metadata": {},
   "source": [
    "### Boolean Masking and dvanced indexing"
   ]
  },
  {
   "cell_type": "code",
   "execution_count": 7,
   "id": "c1fa0327",
   "metadata": {},
   "outputs": [
    {
     "data": {
      "text/plain": [
       "array([196.,  75., 766.,  75.,  55., 999.,  78.,  76.,  88.])"
      ]
     },
     "execution_count": 7,
     "metadata": {},
     "output_type": "execute_result"
    }
   ],
   "source": [
    "filedata[filedata > 50] "
   ]
  },
  {
   "cell_type": "code",
   "execution_count": 9,
   "id": "c58ed33b",
   "metadata": {},
   "outputs": [
    {
     "data": {
      "text/plain": [
       "array([2, 3, 9])"
      ]
     },
     "execution_count": 9,
     "metadata": {},
     "output_type": "execute_result"
    }
   ],
   "source": [
    "## You can index with a list in NumPy\n",
    "a = np.array([1,2,3,4,5,6,7,8,9])\n",
    "a[[1,2,8]]"
   ]
  },
  {
   "cell_type": "code",
   "execution_count": 10,
   "id": "0d448415",
   "metadata": {},
   "outputs": [
    {
     "data": {
      "text/plain": [
       "array([False, False, False, False,  True,  True, False,  True,  True,\n",
       "       False, False, False, False, False, False, False,  True,  True])"
      ]
     },
     "execution_count": 10,
     "metadata": {},
     "output_type": "execute_result"
    }
   ],
   "source": [
    "np.any(filedata > 50, axis=0)"
   ]
  },
  {
   "cell_type": "code",
   "execution_count": 11,
   "id": "c99f5aee",
   "metadata": {},
   "outputs": [
    {
     "data": {
      "text/plain": [
       "array([False, False, False, False,  True, False, False, False, False,\n",
       "       False, False, False, False, False, False, False, False, False])"
      ]
     },
     "execution_count": 11,
     "metadata": {},
     "output_type": "execute_result"
    }
   ],
   "source": [
    "np.all(filedata > 50, axis=0)"
   ]
  },
  {
   "cell_type": "code",
   "execution_count": 12,
   "id": "44e4b369",
   "metadata": {},
   "outputs": [
    {
     "data": {
      "text/plain": [
       "array([False, False, False])"
      ]
     },
     "execution_count": 12,
     "metadata": {},
     "output_type": "execute_result"
    }
   ],
   "source": [
    "np.all(filedata > 50, axis=1)"
   ]
  },
  {
   "cell_type": "code",
   "execution_count": 13,
   "id": "bdd1661c",
   "metadata": {
    "scrolled": true
   },
   "outputs": [
    {
     "data": {
      "text/plain": [
       "array([[False, False, False, False, False,  True, False, False, False,\n",
       "        False, False, False, False, False, False, False, False, False],\n",
       "       [False, False, False, False, False,  True, False,  True, False,\n",
       "        False, False, False, False, False, False, False, False, False],\n",
       "       [False, False, False, False, False, False, False, False,  True,\n",
       "        False, False, False, False, False, False, False,  True,  True]])"
      ]
     },
     "execution_count": 13,
     "metadata": {},
     "output_type": "execute_result"
    }
   ],
   "source": [
    "((filedata > 50) & (filedata < 100))"
   ]
  },
  {
   "cell_type": "code",
   "execution_count": 14,
   "id": "12bb4c62",
   "metadata": {},
   "outputs": [
    {
     "data": {
      "text/plain": [
       "array([[ True,  True,  True,  True, False, False,  True,  True,  True,\n",
       "         True,  True,  True,  True,  True,  True,  True,  True,  True],\n",
       "       [ True,  True,  True,  True, False, False,  True, False,  True,\n",
       "         True,  True,  True,  True,  True,  True,  True,  True,  True],\n",
       "       [ True,  True,  True,  True, False,  True,  True,  True, False,\n",
       "         True,  True,  True,  True,  True,  True,  True, False, False]])"
      ]
     },
     "execution_count": 14,
     "metadata": {},
     "output_type": "execute_result"
    }
   ],
   "source": [
    "(~(filedata > 50) & (filedata < 100))\n",
    "# The ~ sign means NOT and is going to give the opposite result"
   ]
  },
  {
   "cell_type": "code",
   "execution_count": null,
   "id": "96f8c239",
   "metadata": {},
   "outputs": [],
   "source": []
  }
 ],
 "metadata": {
  "kernelspec": {
   "display_name": "Python 3 (ipykernel)",
   "language": "python",
   "name": "python3"
  },
  "language_info": {
   "codemirror_mode": {
    "name": "ipython",
    "version": 3
   },
   "file_extension": ".py",
   "mimetype": "text/x-python",
   "name": "python",
   "nbconvert_exporter": "python",
   "pygments_lexer": "ipython3",
   "version": "3.10.9"
  }
 },
 "nbformat": 4,
 "nbformat_minor": 5
}
