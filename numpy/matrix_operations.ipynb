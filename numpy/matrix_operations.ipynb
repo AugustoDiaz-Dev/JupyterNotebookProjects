{
 "cells": [
  {
   "cell_type": "markdown",
   "id": "ee8dd42a",
   "metadata": {},
   "source": [
    "# Matrix operations"
   ]
  },
  {
   "cell_type": "code",
   "execution_count": 2,
   "id": "9afd21f5",
   "metadata": {},
   "outputs": [],
   "source": [
    "import numpy as np "
   ]
  },
  {
   "cell_type": "code",
   "execution_count": 3,
   "id": "00bb1b2a",
   "metadata": {},
   "outputs": [
    {
     "name": "stdout",
     "output_type": "stream",
     "text": [
      "[[2 5 7]\n",
      " [1 2 3]\n",
      " [7 8 2]]\n"
     ]
    }
   ],
   "source": [
    "A = np.array([\n",
    "    [2,5,7],\n",
    "    [1,2,3],\n",
    "    [7,8,2]\n",
    "])\n",
    "\n",
    "print(A)"
   ]
  },
  {
   "cell_type": "code",
   "execution_count": 4,
   "id": "69a2ccc8",
   "metadata": {},
   "outputs": [
    {
     "name": "stdout",
     "output_type": "stream",
     "text": [
      "[[8 0 1]\n",
      " [0 3 4]\n",
      " [1 0 7]]\n"
     ]
    }
   ],
   "source": [
    "B = np.array([\n",
    "    [8,0,1], \n",
    "    [0,3,4],\n",
    "    [1,0,7]\n",
    "])\n",
    "print(B)"
   ]
  },
  {
   "cell_type": "code",
   "execution_count": 21,
   "id": "e723d331",
   "metadata": {},
   "outputs": [
    {
     "name": "stdout",
     "output_type": "stream",
     "text": [
      "Addition:\n",
      " [[10  5  8]\n",
      " [ 1  5  7]\n",
      " [ 8  8  9]]\n",
      "---------------\n",
      "Subtraction:\n",
      " [[-6  5  6]\n",
      " [ 1 -1 -1]\n",
      " [ 6  8 -5]]\n",
      "---------------\n",
      "Multiplication method 1:\n",
      " [[23 15 71]\n",
      " [11  6 30]\n",
      " [58 24 53]]\n",
      "---------------\n",
      "Multiplication method 2:\n",
      " [[23 15 71]\n",
      " [11  6 30]\n",
      " [58 24 53]]\n",
      "---------------\n",
      "Multiplication method 3:\n",
      " [[23 15 71]\n",
      " [11  6 30]\n",
      " [58 24 53]]\n",
      "---------------\n",
      "Multiplication method 4:\n",
      " [[23 15 71]\n",
      " [11  6 30]\n",
      " [58 24 53]]\n"
     ]
    }
   ],
   "source": [
    "print('Addition:\\n',A+B)\n",
    "print(\"-\" * 15)\n",
    "print('Subtraction:\\n',A-B)\n",
    "print(\"-\" * 15)\n",
    "print('Multiplication method 1:\\n',  A.dot(B))\n",
    "print(\"-\" * 15)\n",
    "print('Multiplication method 2:\\n',  np.dot(A,B))\n",
    "print(\"-\" * 15)\n",
    "print('Multiplication method 3:\\n',  np.matmul(A,B))\n",
    "print(\"-\" * 15)\n",
    "print('Multiplication method 4:\\n',  A@B)\n"
   ]
  },
  {
   "cell_type": "markdown",
   "id": "5b3d14a5",
   "metadata": {},
   "source": [
    "### How to find inverse of a matrix"
   ]
  },
  {
   "cell_type": "code",
   "execution_count": 22,
   "id": "68a07a84",
   "metadata": {},
   "outputs": [
    {
     "name": "stdout",
     "output_type": "stream",
     "text": [
      "[[-1.53846154  3.53846154  0.07692308]\n",
      " [ 1.46153846 -3.46153846  0.07692308]\n",
      " [-0.46153846  1.46153846 -0.07692308]]\n"
     ]
    }
   ],
   "source": [
    "print(np.linalg.inv(A))\n",
    "# See what is a singular matrix"
   ]
  },
  {
   "cell_type": "markdown",
   "id": "0d6af289",
   "metadata": {},
   "source": [
    "### Element-wise matrix multiplication"
   ]
  },
  {
   "cell_type": "code",
   "execution_count": 23,
   "id": "470ed374",
   "metadata": {},
   "outputs": [
    {
     "name": "stdout",
     "output_type": "stream",
     "text": [
      "[[16  0  7]\n",
      " [ 0  6 12]\n",
      " [ 7  0 14]]\n"
     ]
    }
   ],
   "source": [
    "print(A*B)"
   ]
  },
  {
   "cell_type": "markdown",
   "id": "af24d037",
   "metadata": {},
   "source": [
    "### How to compute eigenvalues of a matrix"
   ]
  },
  {
   "cell_type": "code",
   "execution_count": 24,
   "id": "da0d5d65",
   "metadata": {},
   "outputs": [
    {
     "name": "stdout",
     "output_type": "stream",
     "text": [
      "[11.72403766 -5.52328145 -0.2007562 ]\n"
     ]
    }
   ],
   "source": [
    "print(np.linalg.eigvals(A))"
   ]
  }
 ],
 "metadata": {
  "kernelspec": {
   "display_name": "Python 3 (ipykernel)",
   "language": "python",
   "name": "python3"
  },
  "language_info": {
   "codemirror_mode": {
    "name": "ipython",
    "version": 3
   },
   "file_extension": ".py",
   "mimetype": "text/x-python",
   "name": "python",
   "nbconvert_exporter": "python",
   "pygments_lexer": "ipython3",
   "version": "3.11.4"
  }
 },
 "nbformat": 4,
 "nbformat_minor": 5
}
